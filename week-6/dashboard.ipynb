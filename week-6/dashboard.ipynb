{
 "cells": [
  {
   "cell_type": "code",
   "execution_count": 1,
   "id": "b4b50265",
   "metadata": {},
   "outputs": [
    {
     "name": "stderr",
     "output_type": "stream",
     "text": [
      "/var/folders/3y/dd2_h5492gj2f1b01t_fksph0000gn/T/ipykernel_8049/3938075410.py:4: UserWarning: Could not infer format, so each element will be parsed individually, falling back to `dateutil`. To ensure parsing is consistent and as-expected, please specify a format.\n",
      "  df = pd.read_csv('gyro_data_clean.csv', parse_dates=['timestamp'])\n",
      "/var/folders/3y/dd2_h5492gj2f1b01t_fksph0000gn/T/ipykernel_8049/3938075410.py:5: FutureWarning: The behavior of 'to_datetime' with 'unit' when parsing strings is deprecated. In a future version, strings will be parsed as datetime strings, matching the behavior without a 'unit'. To retain the old behavior, explicitly cast ints or floats to numeric type before calling to_datetime.\n",
      "  df['ts'] = pd.to_datetime(df['timestamp'], unit='s')\n"
     ]
    }
   ],
   "source": [
    "import pandas as pd\n",
    "\n",
    "\n",
    "df = pd.read_csv('gyro_data_clean.csv', parse_dates=['timestamp'])\n",
    "df['ts'] = pd.to_datetime(df['timestamp'], unit='s')\n",
    "df = df[df['ts'] >= '2025-08-20 10:00:00']\n",
    "df.rename(columns={'gyro_x':'x', 'gyro_y':'y', 'gyro_z':'z'}, inplace=True)\n",
    "total_samples = len(df)"
   ]
  },
  {
   "cell_type": "code",
   "execution_count": 2,
   "id": "aab1c7cd",
   "metadata": {},
   "outputs": [],
   "source": [
    "from dash import Dash, dcc, html, Input, Output, State, dash_table\n",
    "import plotly.express as px\n",
    "\n",
    "app = Dash(__name__)\n",
    "\n",
    "app.layout = html.Div([\n",
    "    html.H2(\"Gyroscope Data Explorer\"),\n",
    "    html.Div([\n",
    "        html.Label(\"Chart Type:\"),\n",
    "        dcc.Dropdown(\n",
    "            id='chart-type',\n",
    "            options=[\n",
    "                {'label': 'Line Chart', 'value': 'line'},\n",
    "                {'label': 'Scatter Plot', 'value': 'scatter'},\n",
    "                {'label': 'Distribution (Histogram)', 'value': 'histogram'}\n",
    "            ],\n",
    "            value='line'\n",
    "        ),\n",
    "        html.Label(\"Variables:\"),\n",
    "        dcc.Dropdown(\n",
    "            id='variables',\n",
    "            options=[\n",
    "                {'label': 'x', 'value': 'x'},\n",
    "                {'label': 'y', 'value': 'y'},\n",
    "                {'label': 'z', 'value': 'z'},\n",
    "                {'label': 'All', 'value': 'all'}\n",
    "            ],\n",
    "            value='all',\n",
    "            multi=False\n",
    "        ),\n",
    "        html.Label(\"Number of Samples:\"),\n",
    "        dcc.Input(\n",
    "            id='num-samples',\n",
    "            type='number',\n",
    "            value=100,\n",
    "            min=1,\n",
    "            max=total_samples\n",
    "        ),\n",
    "        html.Button('Previous', id='prev-btn', n_clicks=0),\n",
    "        html.Button('Next', id='next-btn', n_clicks=0),\n",
    "    ], style={'columnCount': 2}),\n",
    "    dcc.Graph(id='gyro-graph'),\n",
    "    html.H4(\"Summary Statistics\"),\n",
    "    dash_table.DataTable(\n",
    "        id='summary-table',\n",
    "        columns=[\n",
    "            {'name': stat, 'id': stat} for stat in ['variable','mean','std','min','max']\n",
    "        ],\n",
    "        data=[]\n",
    "    )\n",
    "])\n"
   ]
  },
  {
   "cell_type": "code",
   "execution_count": null,
   "id": "4c3baf08",
   "metadata": {},
   "outputs": [],
   "source": [
    "@app.callback(\n",
    "    Output('gyro-graph', 'figure'),\n",
    "    Output('summary-table', 'data'),\n",
    "    Input('chart-type', 'value'),\n",
    "    Input('variables', 'value'),\n",
    "    Input('num-samples', 'value'),\n",
    "    Input('prev-btn', 'n_clicks'),\n",
    "    Input('next-btn', 'n_clicks'),\n",
    "    State('gyro-graph', 'figure')\n",
    ")\n",
    "def update_graph(chart_type, var_sel, n_samples, prev_clicks, next_clicks, existing_fig):\n",
    "    if not isinstance(n_samples, int) or n_samples <= 0:\n",
    "        n_samples = total_samples\n",
    "\n",
    "    offset = (next_clicks - prev_clicks) * n_samples\n",
    "    start = max(0, min(offset, total_samples - n_samples))\n",
    "    end = start + n_samples\n",
    "    dff = df.iloc[start:end]\n",
    "    \n",
    "    if var_sel == 'all':\n",
    "        cols = ['x','y','z']\n",
    "    else:\n",
    "        cols = [var_sel]\n",
    "    \n",
    "    if chart_type == 'line':\n",
    "        fig = px.line(dff, y=cols, x='ts', title=\"Line Chart of Gyroscope\")\n",
    "    elif chart_type == 'scatter':\n",
    "        fig = px.scatter(dff, y=cols, x='ts', title=\"Scatter Plot of Gyroscope\")\n",
    "    else:  # histogram\n",
    "        fig = px.histogram(dff, x=cols, title=\"Distribution of Gyroscope\", nbins=30)\n",
    "    \n",
    "    summary = []\n",
    "    for c in cols:\n",
    "        summary.append({\n",
    "            'variable': c,\n",
    "            'mean': round(dff[c].mean(), 3),\n",
    "            'std': round(dff[c].std(), 3),\n",
    "            'min': round(dff[c].min(), 3),\n",
    "            'max': round(dff[c].max(), 3),\n",
    "        })\n",
    "    return fig, summary\n"
   ]
  },
  {
   "cell_type": "code",
   "execution_count": 6,
   "id": "6ee818cc",
   "metadata": {},
   "outputs": [
    {
     "name": "stdout",
     "output_type": "stream",
     "text": [
      "Dash app running on http://127.0.0.1:8055/\n"
     ]
    },
    {
     "data": {
      "application/javascript": "window.open('http://127.0.0.1:8055/')",
      "text/plain": [
       "<IPython.core.display.Javascript object>"
      ]
     },
     "metadata": {},
     "output_type": "display_data"
    }
   ],
   "source": [
    "if __name__ == '__main__':\n",
    "    app.run(debug=True, jupyter_mode=\"tab\", port=8055)"
   ]
  },
  {
   "cell_type": "code",
   "execution_count": null,
   "id": "c8bd5ce9",
   "metadata": {},
   "outputs": [],
   "source": []
  }
 ],
 "metadata": {
  "kernelspec": {
   "display_name": "base",
   "language": "python",
   "name": "python3"
  },
  "language_info": {
   "codemirror_mode": {
    "name": "ipython",
    "version": 3
   },
   "file_extension": ".py",
   "mimetype": "text/x-python",
   "name": "python",
   "nbconvert_exporter": "python",
   "pygments_lexer": "ipython3",
   "version": "3.12.2"
  }
 },
 "nbformat": 4,
 "nbformat_minor": 5
}
